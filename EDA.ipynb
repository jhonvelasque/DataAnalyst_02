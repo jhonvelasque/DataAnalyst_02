{
 "cells": [
  {
   "cell_type": "code",
   "execution_count": 4,
   "metadata": {},
   "outputs": [],
   "source": [
    "import pandas as pd\n",
    "import requests\n",
    "import os"
   ]
  },
  {
   "cell_type": "code",
   "execution_count": 5,
   "metadata": {},
   "outputs": [],
   "source": [
    "import pandas as pd\n",
    "import numpy as np\n",
    "# Módulo para trabajar con rutas de archivo\n",
    "from pathlib import Path\n",
    "# Librería para identificar encondings\n",
    "import chardet\n",
    "#importamos lalibreria os para trabajar con los archivos\n",
    "import os\n"
   ]
  },
  {
   "cell_type": "code",
   "execution_count": 6,
   "metadata": {},
   "outputs": [],
   "source": [
    "#funcion para leer archivos csv y json a partir de una ruta\n",
    "def get_data(filepath):\n",
    "    #manejando los archivos csv y json\n",
    "    with open(filepath, 'rb') as file:\n",
    "        result = chardet.detect(file.read())\n",
    "        # Para importar archivos csv, detectando encoding\n",
    "        if Path(filepath).suffix == \".csv\": \n",
    "            df = pd.read_csv(filepath, encoding=result['encoding'])\n",
    "    return df"
   ]
  },
  {
   "cell_type": "code",
   "execution_count": 7,
   "metadata": {},
   "outputs": [],
   "source": [
    "#funcionque nos da el nombres de los archivos a partir de la ruta del   archivo\n",
    "def get_nombre_archivo(filepath):\n",
    "    #leemos el contenido de la ruta \n",
    "    archivos = os.listdir(filepath)\n",
    "    archivos_sin_extension = [os.path.splitext(nombre_archivo)[0] for nombre_archivo in archivos if os.path.splitext(nombre_archivo)[1] in ['.csv','.json'] ]\n",
    "    return archivos_sin_extension"
   ]
  },
  {
   "cell_type": "code",
   "execution_count": 8,
   "metadata": {},
   "outputs": [
    {
     "name": "stdout",
     "output_type": "stream",
     "text": [
      "el nombre de tu variable 1 es : AccesosaInternetfijoportecnologiaylocalidad_2791751682006771915\n",
      "el nombre de tu variable 2 es : AccesosaInternetfijoporvelocidadbajadayprovincia_2791741682006745495\n",
      "el nombre de tu variable 3 es : AccesosaInternetfijoporvelocidaddebajadaylocalidad_2776171682006764486\n",
      "el nombre de tu variable 4 es : ConectividadalserviciodeInternet_2776151682006239208\n",
      "el nombre de tu variable 5 es : historico_velocidad_internet\n",
      "el nombre de tu variable 6 es : Internet_Accesos-por-tecnologia\n",
      "el nombre de tu variable 7 es : Internet_Accesos-por-velocidad\n",
      "el nombre de tu variable 8 es : Internet_BAF\n",
      "el nombre de tu variable 9 es : Internet_Ingresos\n",
      "el nombre de tu variable 10 es : Internet_Penetracion\n",
      "el nombre de tu variable 11 es : Listadodelocalidadesconconectividadainternet_2750221682006785583\n"
     ]
    }
   ],
   "source": [
    "#creando  los data framees a partir de los nombres que nos dieron\n",
    "i=1\n",
    "directorio='./data/'\n",
    "\n",
    "for nombre_archivo in get_nombre_archivo(directorio):\n",
    "    locals()[nombre_archivo.replace('-','_')]=get_data(f'{directorio}{nombre_archivo}.csv')\n",
    "    print(f'el nombre de tu variable {i} es :',nombre_archivo)\n",
    "    i+=1"
   ]
  },
  {
   "cell_type": "code",
   "execution_count": 9,
   "metadata": {},
   "outputs": [
    {
     "data": {
      "text/html": [
       "<div>\n",
       "<style scoped>\n",
       "    .dataframe tbody tr th:only-of-type {\n",
       "        vertical-align: middle;\n",
       "    }\n",
       "\n",
       "    .dataframe tbody tr th {\n",
       "        vertical-align: top;\n",
       "    }\n",
       "\n",
       "    .dataframe thead th {\n",
       "        text-align: right;\n",
       "    }\n",
       "</style>\n",
       "<table border=\"1\" class=\"dataframe\">\n",
       "  <thead>\n",
       "    <tr style=\"text-align: right;\">\n",
       "      <th></th>\n",
       "      <th>Año</th>\n",
       "      <th>Trimestre</th>\n",
       "      <th>Provincia</th>\n",
       "      <th>Accesos por cada 100 hogares</th>\n",
       "    </tr>\n",
       "  </thead>\n",
       "  <tbody>\n",
       "    <tr>\n",
       "      <th>0</th>\n",
       "      <td>2022</td>\n",
       "      <td>3</td>\n",
       "      <td>Buenos Aires</td>\n",
       "      <td>78,11</td>\n",
       "    </tr>\n",
       "    <tr>\n",
       "      <th>1</th>\n",
       "      <td>2022</td>\n",
       "      <td>3</td>\n",
       "      <td>Capital Federal</td>\n",
       "      <td>122,28</td>\n",
       "    </tr>\n",
       "    <tr>\n",
       "      <th>2</th>\n",
       "      <td>2022</td>\n",
       "      <td>3</td>\n",
       "      <td>Catamarca</td>\n",
       "      <td>65,33</td>\n",
       "    </tr>\n",
       "    <tr>\n",
       "      <th>3</th>\n",
       "      <td>2022</td>\n",
       "      <td>3</td>\n",
       "      <td>Chaco</td>\n",
       "      <td>43,86</td>\n",
       "    </tr>\n",
       "    <tr>\n",
       "      <th>4</th>\n",
       "      <td>2022</td>\n",
       "      <td>3</td>\n",
       "      <td>Chubut</td>\n",
       "      <td>84,38</td>\n",
       "    </tr>\n",
       "    <tr>\n",
       "      <th>...</th>\n",
       "      <td>...</td>\n",
       "      <td>...</td>\n",
       "      <td>...</td>\n",
       "      <td>...</td>\n",
       "    </tr>\n",
       "    <tr>\n",
       "      <th>835</th>\n",
       "      <td>2014</td>\n",
       "      <td>1</td>\n",
       "      <td>Santa Cruz</td>\n",
       "      <td>28,94</td>\n",
       "    </tr>\n",
       "    <tr>\n",
       "      <th>836</th>\n",
       "      <td>2014</td>\n",
       "      <td>1</td>\n",
       "      <td>Santa Fe</td>\n",
       "      <td>47,85</td>\n",
       "    </tr>\n",
       "    <tr>\n",
       "      <th>837</th>\n",
       "      <td>2014</td>\n",
       "      <td>1</td>\n",
       "      <td>Santiago Del Estero</td>\n",
       "      <td>16,31</td>\n",
       "    </tr>\n",
       "    <tr>\n",
       "      <th>838</th>\n",
       "      <td>2014</td>\n",
       "      <td>1</td>\n",
       "      <td>Tierra Del Fuego</td>\n",
       "      <td>63,97</td>\n",
       "    </tr>\n",
       "    <tr>\n",
       "      <th>839</th>\n",
       "      <td>2014</td>\n",
       "      <td>1</td>\n",
       "      <td>Tucumán</td>\n",
       "      <td>33,42</td>\n",
       "    </tr>\n",
       "  </tbody>\n",
       "</table>\n",
       "<p>840 rows × 4 columns</p>\n",
       "</div>"
      ],
      "text/plain": [
       "      Año  Trimestre            Provincia Accesos por cada 100 hogares\n",
       "0    2022          3         Buenos Aires                        78,11\n",
       "1    2022          3      Capital Federal                       122,28\n",
       "2    2022          3            Catamarca                        65,33\n",
       "3    2022          3                Chaco                        43,86\n",
       "4    2022          3               Chubut                        84,38\n",
       "..    ...        ...                  ...                          ...\n",
       "835  2014          1           Santa Cruz                        28,94\n",
       "836  2014          1             Santa Fe                        47,85\n",
       "837  2014          1  Santiago Del Estero                        16,31\n",
       "838  2014          1     Tierra Del Fuego                        63,97\n",
       "839  2014          1              Tucumán                        33,42\n",
       "\n",
       "[840 rows x 4 columns]"
      ]
     },
     "execution_count": 9,
     "metadata": {},
     "output_type": "execute_result"
    }
   ],
   "source": []
  }
 ],
 "metadata": {
  "kernelspec": {
   "display_name": "venv_Analyst",
   "language": "python",
   "name": "python3"
  },
  "language_info": {
   "codemirror_mode": {
    "name": "ipython",
    "version": 3
   },
   "file_extension": ".py",
   "mimetype": "text/x-python",
   "name": "python",
   "nbconvert_exporter": "python",
   "pygments_lexer": "ipython3",
   "version": "3.11.3"
  },
  "orig_nbformat": 4
 },
 "nbformat": 4,
 "nbformat_minor": 2
}
